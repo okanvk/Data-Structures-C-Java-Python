{
 "cells": [
  {
   "cell_type": "code",
   "execution_count": 16,
   "metadata": {},
   "outputs": [],
   "source": [
    "liste = [1,2,3,4,5]\n",
    "\n",
    "copy_liste = liste[3:]"
   ]
  },
  {
   "cell_type": "code",
   "execution_count": 17,
   "metadata": {},
   "outputs": [
    {
     "data": {
      "text/plain": [
       "[4, 5]"
      ]
     },
     "execution_count": 17,
     "metadata": {},
     "output_type": "execute_result"
    }
   ],
   "source": [
    "copy_liste"
   ]
  },
  {
   "cell_type": "code",
   "execution_count": 18,
   "metadata": {},
   "outputs": [
    {
     "data": {
      "text/plain": [
       "[1, 2, 3, 4, 5]"
      ]
     },
     "execution_count": 18,
     "metadata": {},
     "output_type": "execute_result"
    }
   ],
   "source": [
    "liste"
   ]
  },
  {
   "cell_type": "code",
   "execution_count": 19,
   "metadata": {},
   "outputs": [],
   "source": [
    "copy_liste[1] = 12"
   ]
  },
  {
   "cell_type": "code",
   "execution_count": 20,
   "metadata": {},
   "outputs": [
    {
     "data": {
      "text/plain": [
       "[4, 12]"
      ]
     },
     "execution_count": 20,
     "metadata": {},
     "output_type": "execute_result"
    }
   ],
   "source": [
    "copy_liste"
   ]
  },
  {
   "cell_type": "code",
   "execution_count": 21,
   "metadata": {},
   "outputs": [
    {
     "data": {
      "text/plain": [
       "[1, 2, 3, 4, 5]"
      ]
     },
     "execution_count": 21,
     "metadata": {},
     "output_type": "execute_result"
    }
   ],
   "source": [
    "liste"
   ]
  },
  {
   "cell_type": "code",
   "execution_count": 22,
   "metadata": {},
   "outputs": [
    {
     "data": {
      "text/plain": [
       "[0, 0, 0, 0, 0, 0, 0, 0]"
      ]
     },
     "execution_count": 22,
     "metadata": {},
     "output_type": "execute_result"
    }
   ],
   "source": [
    "[0] * 8"
   ]
  },
  {
   "cell_type": "code",
   "execution_count": 23,
   "metadata": {},
   "outputs": [
    {
     "data": {
      "text/plain": [
       "[1, 2, 3, 4, 5]"
      ]
     },
     "execution_count": 23,
     "metadata": {},
     "output_type": "execute_result"
    }
   ],
   "source": [
    "liste"
   ]
  },
  {
   "cell_type": "code",
   "execution_count": 24,
   "metadata": {},
   "outputs": [],
   "source": [
    "liste2 = [6,7,8]"
   ]
  },
  {
   "cell_type": "code",
   "execution_count": 25,
   "metadata": {},
   "outputs": [],
   "source": [
    "liste.extend(liste2)"
   ]
  },
  {
   "cell_type": "code",
   "execution_count": 26,
   "metadata": {},
   "outputs": [
    {
     "data": {
      "text/plain": [
       "[1, 2, 3, 4, 5, 6, 7, 8]"
      ]
     },
     "execution_count": 26,
     "metadata": {},
     "output_type": "execute_result"
    }
   ],
   "source": [
    "liste"
   ]
  },
  {
   "cell_type": "code",
   "execution_count": 27,
   "metadata": {},
   "outputs": [
    {
     "name": "stdout",
     "output_type": "stream",
     "text": [
      "Length:   0 Size in bytes   64\n",
      "Length:   1 Size in bytes   96\n",
      "Length:   2 Size in bytes   96\n",
      "Length:   3 Size in bytes   96\n",
      "Length:   4 Size in bytes   96\n",
      "Length:   5 Size in bytes  128\n",
      "Length:   6 Size in bytes  128\n",
      "Length:   7 Size in bytes  128\n",
      "Length:   8 Size in bytes  128\n",
      "Length:   9 Size in bytes  192\n"
     ]
    }
   ],
   "source": [
    "import sys\n",
    "\n",
    "n = 10\n",
    "\n",
    "data = []\n",
    "\n",
    "for i in range(n):\n",
    "    \n",
    "    a = len(data)\n",
    "    \n",
    "    b = sys.getsizeof(data)\n",
    "    \n",
    "    print(\"Length: {0:3d} Size in bytes {1:4d}\".format(a,b))\n",
    "    \n",
    "    data.append(a)"
   ]
  },
  {
   "cell_type": "code",
   "execution_count": 29,
   "metadata": {},
   "outputs": [],
   "source": [
    "import ctypes\n",
    "\n",
    "class DynamicArray(object):\n",
    "    \n",
    "    def __init__(self):\n",
    "        self.n = 0\n",
    "        self.capacity = 1\n",
    "        self.A = self.make_array(self.capacity)\n",
    "        \n",
    "    \n",
    "    def __len__(self):\n",
    "        return self.n\n",
    "\n",
    "    def __getitem__(self,k): \n",
    "        if not 0 <= k < self.n:\n",
    "            return IndexError('K is out of bounds!')\n",
    "        return self.A[k]\n",
    "    \n",
    "    def append(self,element):\n",
    "        if self.n == self.capacity:\n",
    "            self._resize(2*self.capacity)\n",
    "        self.A[self.n] = element\n",
    "        self.n += 1\n",
    "    \n",
    "    def _resize(self,new_cap):\n",
    "        \n",
    "        B = self.make_array(new_cap)\n",
    "        for i in range(self.n):\n",
    "            B[i] = self.A[i]\n",
    "        self.A = B\n",
    "        self.capacity = new_cap\n",
    "    \n",
    "    def make_array(self,new_cap):\n",
    "        return (new_cap * ctypes.py_object)()"
   ]
  },
  {
   "cell_type": "code",
   "execution_count": 30,
   "metadata": {},
   "outputs": [],
   "source": [
    "arr = DynamicArray()"
   ]
  },
  {
   "cell_type": "code",
   "execution_count": 31,
   "metadata": {},
   "outputs": [],
   "source": [
    "arr.append(1)"
   ]
  },
  {
   "cell_type": "code",
   "execution_count": 33,
   "metadata": {},
   "outputs": [
    {
     "data": {
      "text/plain": [
       "1"
      ]
     },
     "execution_count": 33,
     "metadata": {},
     "output_type": "execute_result"
    }
   ],
   "source": [
    "len(arr)"
   ]
  },
  {
   "cell_type": "code",
   "execution_count": 34,
   "metadata": {},
   "outputs": [],
   "source": [
    "arr.append(2)"
   ]
  },
  {
   "cell_type": "code",
   "execution_count": 35,
   "metadata": {},
   "outputs": [
    {
     "data": {
      "text/plain": [
       "2"
      ]
     },
     "execution_count": 35,
     "metadata": {},
     "output_type": "execute_result"
    }
   ],
   "source": [
    "len(arr)"
   ]
  },
  {
   "cell_type": "code",
   "execution_count": 36,
   "metadata": {},
   "outputs": [
    {
     "data": {
      "text/plain": [
       "1"
      ]
     },
     "execution_count": 36,
     "metadata": {},
     "output_type": "execute_result"
    }
   ],
   "source": [
    "arr[0]"
   ]
  },
  {
   "cell_type": "code",
   "execution_count": 37,
   "metadata": {},
   "outputs": [
    {
     "data": {
      "text/plain": [
       "2"
      ]
     },
     "execution_count": 37,
     "metadata": {},
     "output_type": "execute_result"
    }
   ],
   "source": [
    "arr[1]"
   ]
  },
  {
   "cell_type": "code",
   "execution_count": 81,
   "metadata": {},
   "outputs": [],
   "source": [
    "def check_anagram(str1,str2):\n",
    "    \n",
    "    str1 = str1.lower()\n",
    "    str2 = str2.lower()\n",
    "    \n",
    "    str1 = str1.replace(\" \",\"\")\n",
    "    str2 = str2.replace(\" \",\"\")\n",
    "    \n",
    "    dict1 = {}\n",
    "    dict2 = {}\n",
    "    \n",
    "    if len(str1) != len(str2):\n",
    "        return False\n",
    "    \n",
    "    for i in str1:\n",
    "        if i not in dict1.keys():\n",
    "            dict1[i] = 1\n",
    "        else:\n",
    "            dict1[i] += 1\n",
    "    for i in str2:\n",
    "        if i not in dict2.keys():\n",
    "            dict2[i] = 1\n",
    "        else:\n",
    "            dict2[i] += 1\n",
    "    print(dict1.items())\n",
    "    print(dict2.items())\n",
    "    for (x,y) in dict1.items():\n",
    "        if x not in dict2.keys() or y != dict2[x]:\n",
    "                return False\n",
    "    return True"
   ]
  },
  {
   "cell_type": "code",
   "execution_count": 82,
   "metadata": {},
   "outputs": [
    {
     "name": "stdout",
     "output_type": "stream",
     "text": [
      "dict_items([('g', 3), ('o', 3)])\n",
      "dict_items([('g', 3), ('o', 3)])\n"
     ]
    },
    {
     "data": {
      "text/plain": [
       "True"
      ]
     },
     "execution_count": 82,
     "metadata": {},
     "output_type": "execute_result"
    }
   ],
   "source": [
    "check_anagram('go go go','gggooo')"
   ]
  },
  {
   "cell_type": "code",
   "execution_count": 83,
   "metadata": {},
   "outputs": [
    {
     "name": "stdout",
     "output_type": "stream",
     "text": [
      "dict_items([('g', 3), ('o', 3)])\n",
      "dict_items([('g', 3), ('o', 3)])\n",
      "dict_items([('a', 1), ('b', 1), ('c', 1)])\n",
      "dict_items([('c', 1), ('b', 1), ('a', 1)])\n",
      "dict_items([('h', 1), ('i', 1), ('m', 1), ('a', 1), ('n', 1)])\n",
      "dict_items([('h', 1), ('i', 1), ('m', 1), ('a', 1), ('n', 1)])\n",
      "ALL TEST CASES PASSED\n"
     ]
    }
   ],
   "source": [
    "from nose.tools import assert_equal\n",
    "\n",
    "class AnagramTest(object):\n",
    "    \n",
    "    def test(self,sol):\n",
    "        assert_equal(sol('go go go','gggooo'),True)\n",
    "        assert_equal(sol('abc','cba'),True)\n",
    "        assert_equal(sol('hi man','hi     man'),True)\n",
    "        assert_equal(sol('aabbcc','aabbc'),False)\n",
    "        assert_equal(sol('123','1 2'),False)\n",
    "        print('ALL TEST CASES PASSED')\n",
    "\n",
    "# Run Tests\n",
    "t = AnagramTest()\n",
    "t.test(check_anagram)"
   ]
  },
  {
   "cell_type": "code",
   "execution_count": 84,
   "metadata": {},
   "outputs": [],
   "source": [
    "# Array Pair Sum"
   ]
  },
  {
   "cell_type": "code",
   "execution_count": 154,
   "metadata": {},
   "outputs": [],
   "source": [
    "liste = [1,2,3,1]\n",
    "value = 3\n",
    "\n",
    "def pair_sum(input_arr,sum_value):\n",
    "    \n",
    "    pairs = []\n",
    "    \n",
    "    for i in range(len(input_arr)):\n",
    "        for j in range(i+1,len(input_arr)):\n",
    "            if input_arr[i]+input_arr[j] == sum_value:\n",
    "                if (input_arr[i],input_arr[j]) not in pairs and (input_arr[j],input_arr[i]) not in pairs:\n",
    "                    pairs.append((input_arr[i],input_arr[j]))\n",
    "    return len(pairs)\n",
    "    "
   ]
  },
  {
   "cell_type": "code",
   "execution_count": 155,
   "metadata": {},
   "outputs": [
    {
     "data": {
      "text/plain": [
       "1"
      ]
     },
     "execution_count": 155,
     "metadata": {},
     "output_type": "execute_result"
    }
   ],
   "source": [
    "pair_sum(liste,value)"
   ]
  },
  {
   "cell_type": "code",
   "execution_count": 157,
   "metadata": {},
   "outputs": [
    {
     "name": "stdout",
     "output_type": "stream",
     "text": [
      "ALL TEST CASES PASSED\n"
     ]
    }
   ],
   "source": [
    "\"\"\"\n",
    "RUN THIS CELL TO TEST YOUR SOLUTION\n",
    "\"\"\"\n",
    "from nose.tools import assert_equal\n",
    "\n",
    "class TestPair(object):\n",
    "    \n",
    "    def test(self,sol):\n",
    "        assert_equal(sol([1,9,2,8,3,7,4,6,5,5,13,14,11,13,-1],10),6)\n",
    "        assert_equal(sol([1,2,3,1],3),1)\n",
    "        assert_equal(sol([1,3,2,2],4),2)\n",
    "        print('ALL TEST CASES PASSED')\n",
    "        \n",
    "#Run tests\n",
    "t = TestPair()\n",
    "t.test(pair_sum)"
   ]
  },
  {
   "cell_type": "code",
   "execution_count": 160,
   "metadata": {},
   "outputs": [],
   "source": [
    "arr1 = [1,2,3,4,5,6,7]\n",
    "arr2 = [3,7,2,1,4,6]\n",
    "def finder(array1,array2):\n",
    "    \n",
    "    for i in array2:\n",
    "        if i in array1:\n",
    "            array1.remove(i)\n",
    "    return array1[0]\n",
    "    "
   ]
  },
  {
   "cell_type": "code",
   "execution_count": 161,
   "metadata": {},
   "outputs": [
    {
     "data": {
      "text/plain": [
       "5"
      ]
     },
     "execution_count": 161,
     "metadata": {},
     "output_type": "execute_result"
    }
   ],
   "source": [
    "finder(arr1,arr2)"
   ]
  },
  {
   "cell_type": "code",
   "execution_count": 162,
   "metadata": {},
   "outputs": [
    {
     "name": "stdout",
     "output_type": "stream",
     "text": [
      "ALL TEST CASES PASSED\n"
     ]
    }
   ],
   "source": [
    "from nose.tools import assert_equal\n",
    "\n",
    "class TestFinder(object):\n",
    "    \n",
    "    def test(self,sol):\n",
    "        assert_equal(sol([5,5,7,7],[5,7,7]),5)\n",
    "        assert_equal(sol([1,2,3,4,5,6,7],[3,7,2,1,4,6]),5)\n",
    "        assert_equal(sol([9,8,7,6,5,4,3,2,1],[9,8,7,5,4,3,2,1]),6)\n",
    "        print('ALL TEST CASES PASSED')\n",
    "\n",
    "# Run test\n",
    "t = TestFinder()\n",
    "t.test(finder)"
   ]
  },
  {
   "cell_type": "code",
   "execution_count": 169,
   "metadata": {},
   "outputs": [],
   "source": []
  },
  {
   "cell_type": "code",
   "execution_count": 182,
   "metadata": {},
   "outputs": [
    {
     "data": {
      "text/plain": [
       "1"
      ]
     },
     "execution_count": 182,
     "metadata": {},
     "output_type": "execute_result"
    }
   ],
   "source": [
    "cont_array = [-1,1]\n",
    "def large_cont(arraym):\n",
    "    max_value = arraym[0]\n",
    "    \n",
    "    if len(arraym) == 2:\n",
    "        return arraym[0] if arraym[0] > arraym[1] else  arraym[1]\n",
    "    \n",
    "    for i in range(len(arraym)):\n",
    "        for j in range(i+1,len(arraym)):\n",
    "            if sum(arraym[i:j]) > max_value:\n",
    "                max_value = sum(arraym[i:j])\n",
    "    return max_value\n",
    "large_cont(cont_array)"
   ]
  },
  {
   "cell_type": "code",
   "execution_count": 183,
   "metadata": {},
   "outputs": [
    {
     "name": "stdout",
     "output_type": "stream",
     "text": [
      "ALL TEST CASES PASSED\n"
     ]
    }
   ],
   "source": [
    "from nose.tools import assert_equal\n",
    "\n",
    "class LargeContTest(object):\n",
    "    def test(self,sol):\n",
    "        assert_equal(sol([1,2,-1,3,4,-1]),9)\n",
    "        assert_equal(sol([1,2,-1,3,4,10,10,-10,-1]),29)\n",
    "        assert_equal(sol([-1,1]),1)\n",
    "        print ('ALL TEST CASES PASSED')\n",
    "        \n",
    "#Run Test\n",
    "t = LargeContTest()\n",
    "t.test(large_cont)"
   ]
  },
  {
   "cell_type": "code",
   "execution_count": 204,
   "metadata": {},
   "outputs": [],
   "source": [
    "import re \n",
    "my_str = \"Hi John,    are you ready to go?\"\n",
    "def rev_word(words):\n",
    "    words = words.rstrip()\n",
    "    words = words.strip()\n",
    "    words = re.sub(' +', ' ',words)\n",
    "    new_words = words.split(\" \")\n",
    "    words = []\n",
    "    for i in range(len(new_words)):\n",
    "        words.append(new_words[len(new_words)-i-1])\n",
    "    return \" \".join(words)"
   ]
  },
  {
   "cell_type": "code",
   "execution_count": 205,
   "metadata": {},
   "outputs": [
    {
     "data": {
      "text/plain": [
       "'go? to ready you are John, Hi'"
      ]
     },
     "execution_count": 205,
     "metadata": {},
     "output_type": "execute_result"
    }
   ],
   "source": [
    "rev_word(my_str)"
   ]
  },
  {
   "cell_type": "code",
   "execution_count": 206,
   "metadata": {},
   "outputs": [
    {
     "name": "stdout",
     "output_type": "stream",
     "text": [
      "ALL TEST CASES PASSED\n"
     ]
    }
   ],
   "source": [
    "from nose.tools import assert_equal\n",
    "\n",
    "class ReversalTest(object):\n",
    "    \n",
    "    def test(self,sol):\n",
    "        assert_equal(sol('    space before'),'before space')\n",
    "        assert_equal(sol('space after     '),'after space')\n",
    "        assert_equal(sol('   Hello John    how are you   '),'you are how John Hello')\n",
    "        assert_equal(sol('1'),'1')\n",
    "        print (\"ALL TEST CASES PASSED\")\n",
    "        \n",
    "# Run and test\n",
    "t = ReversalTest()\n",
    "t.test(rev_word)"
   ]
  },
  {
   "cell_type": "code",
   "execution_count": 211,
   "metadata": {},
   "outputs": [],
   "source": [
    "data = \"AAAAABBBBCCC\"\n",
    "def compress(s):\n",
    "    dict_values = {}\n",
    "    for i in s:\n",
    "        if i in dict_values.keys():\n",
    "            dict_values[i] += 1\n",
    "        else:\n",
    "            dict_values[i] = 1\n",
    "    compressed_data = \"\"\n",
    "    for (i,j) in dict_values.items():\n",
    "        compressed_data += i+str(j)\n",
    "    return compressed_data"
   ]
  },
  {
   "cell_type": "code",
   "execution_count": 212,
   "metadata": {},
   "outputs": [
    {
     "data": {
      "text/plain": [
       "'A5B4C3'"
      ]
     },
     "execution_count": 212,
     "metadata": {},
     "output_type": "execute_result"
    }
   ],
   "source": [
    "compress(data)"
   ]
  },
  {
   "cell_type": "code",
   "execution_count": 213,
   "metadata": {},
   "outputs": [
    {
     "name": "stdout",
     "output_type": "stream",
     "text": [
      "ALL TEST CASES PASSED\n"
     ]
    }
   ],
   "source": [
    "from nose.tools import assert_equal\n",
    "\n",
    "class TestCompress(object):\n",
    "\n",
    "    def test(self, sol):\n",
    "        assert_equal(sol(''), '')\n",
    "        assert_equal(sol('AABBCC'), 'A2B2C2')\n",
    "        assert_equal(sol('AAABCCDDDDD'), 'A3B1C2D5')\n",
    "        print ('ALL TEST CASES PASSED')\n",
    "\n",
    "# Run Tests\n",
    "t = TestCompress()\n",
    "t.test(compress)"
   ]
  },
  {
   "cell_type": "code",
   "execution_count": 217,
   "metadata": {},
   "outputs": [
    {
     "data": {
      "text/plain": [
       "False"
      ]
     },
     "execution_count": 217,
     "metadata": {},
     "output_type": "execute_result"
    }
   ],
   "source": [
    "def uni_char(strm):\n",
    "    my_letters = []\n",
    "    for i in strm:\n",
    "        if i in my_letters:\n",
    "            return False\n",
    "        else:\n",
    "            my_letters.append(i)\n",
    "    return True\n",
    "\n",
    "uni_char('goo')"
   ]
  },
  {
   "cell_type": "code",
   "execution_count": 218,
   "metadata": {},
   "outputs": [
    {
     "name": "stdout",
     "output_type": "stream",
     "text": [
      "ALL TEST CASES PASSED\n"
     ]
    }
   ],
   "source": [
    "\"\"\"\n",
    "RUN THIS CELL TO TEST YOUR CODE>\n",
    "\"\"\"\n",
    "from nose.tools import assert_equal\n",
    "\n",
    "\n",
    "class TestUnique(object):\n",
    "\n",
    "    def test(self, sol):\n",
    "        assert_equal(sol(''), True)\n",
    "        assert_equal(sol('goo'), False)\n",
    "        assert_equal(sol('abcdefg'), True)\n",
    "        print ('ALL TEST CASES PASSED')\n",
    "        \n",
    "# Run Tests\n",
    "t = TestUnique()\n",
    "t.test(uni_char)"
   ]
  },
  {
   "cell_type": "code",
   "execution_count": null,
   "metadata": {},
   "outputs": [],
   "source": []
  }
 ],
 "metadata": {
  "kernelspec": {
   "display_name": "Python 3",
   "language": "python",
   "name": "python3"
  },
  "language_info": {
   "codemirror_mode": {
    "name": "ipython",
    "version": 3
   },
   "file_extension": ".py",
   "mimetype": "text/x-python",
   "name": "python",
   "nbconvert_exporter": "python",
   "pygments_lexer": "ipython3",
   "version": "3.7.3"
  }
 },
 "nbformat": 4,
 "nbformat_minor": 2
}
