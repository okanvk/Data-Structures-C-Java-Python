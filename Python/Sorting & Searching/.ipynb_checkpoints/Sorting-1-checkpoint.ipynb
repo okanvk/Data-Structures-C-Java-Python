{
 "cells": [
  {
   "cell_type": "code",
   "execution_count": 1,
   "metadata": {},
   "outputs": [],
   "source": [
    "##Bubble Sort"
   ]
  },
  {
   "cell_type": "code",
   "execution_count": 11,
   "metadata": {},
   "outputs": [],
   "source": [
    "def bubble_sort(array):\n",
    "    \n",
    "    length_of_array = len(array)\n",
    "    \n",
    "    for i in range(length_of_array):\n",
    "        for j in range(length_of_array-1):\n",
    "            if array[j] > array[j+1]:\n",
    "                swap = array[j+1]\n",
    "                array[j+1] = array[j]\n",
    "                array[j] = swap\n",
    "                print(swap)\n",
    "    return array"
   ]
  },
  {
   "cell_type": "code",
   "execution_count": 12,
   "metadata": {},
   "outputs": [
    {
     "name": "stdout",
     "output_type": "stream",
     "text": [
      "3\n",
      "-5\n",
      "22\n",
      "-5\n",
      "-5\n"
     ]
    },
    {
     "data": {
      "text/plain": [
       "[-5, 3, 6, 12, 22, 55]"
      ]
     },
     "execution_count": 12,
     "metadata": {},
     "output_type": "execute_result"
    }
   ],
   "source": [
    "bubble_sort([6,3,12,-5,55,22])"
   ]
  },
  {
   "cell_type": "code",
   "execution_count": 13,
   "metadata": {},
   "outputs": [],
   "source": [
    "##Selection Sort"
   ]
  },
  {
   "cell_type": "code",
   "execution_count": 28,
   "metadata": {},
   "outputs": [],
   "source": [
    "def selection_sort(array):\n",
    "    \n",
    "    length_of_array = len(array)\n",
    "    min_val = array[0]\n",
    "    indeks = 0\n",
    "    \n",
    "    for i in range(length_of_array):\n",
    "        for j in range(i,length_of_array):\n",
    "            if min_val > array[j]:\n",
    "                indeks = j\n",
    "                min_val = array[j]\n",
    "                \n",
    "        swap = array[i]\n",
    "        array[i] = min_val\n",
    "        array[indeks] = swap\n",
    "        \n",
    "        min_val = array[j]\n",
    "        indeks = j\n",
    "    return array\n",
    "    "
   ]
  },
  {
   "cell_type": "code",
   "execution_count": 32,
   "metadata": {},
   "outputs": [
    {
     "data": {
      "text/plain": [
       "[-5, 3, 6, 12, 22, 55]"
      ]
     },
     "execution_count": 32,
     "metadata": {},
     "output_type": "execute_result"
    }
   ],
   "source": [
    "selection_sort([6,3,12,-5,55,22])"
   ]
  },
  {
   "cell_type": "code",
   "execution_count": 33,
   "metadata": {},
   "outputs": [],
   "source": [
    "##Insertion Sort"
   ]
  },
  {
   "cell_type": "code",
   "execution_count": 42,
   "metadata": {},
   "outputs": [],
   "source": [
    "def insertion_sort(array):\n",
    "    \n",
    "    lastIndex = 1\n",
    "    \n",
    "    for i in range(len(array)+1):\n",
    "        \n",
    "        while lastIndex != 0:\n",
    "            \n",
    "            if array[lastIndex] < array[lastIndex-1]:\n",
    "                swap = array[lastIndex-1]\n",
    "                array[lastIndex-1] = array[lastIndex]\n",
    "                array[lastIndex] = swap\n",
    "            else:\n",
    "                break\n",
    "            lastIndex -= 1\n",
    "        lastIndex = i\n",
    "    return array"
   ]
  },
  {
   "cell_type": "code",
   "execution_count": 44,
   "metadata": {},
   "outputs": [
    {
     "data": {
      "text/plain": [
       "[1, 2, 3, 4, 5, 6, 8, 12, 25, 41]"
      ]
     },
     "execution_count": 44,
     "metadata": {},
     "output_type": "execute_result"
    }
   ],
   "source": [
    "insertion_sort([3,5,4,6,8,1,2,12,41,25])"
   ]
  },
  {
   "cell_type": "code",
   "execution_count": null,
   "metadata": {},
   "outputs": [],
   "source": []
  }
 ],
 "metadata": {
  "kernelspec": {
   "display_name": "Python 3",
   "language": "python",
   "name": "python3"
  },
  "language_info": {
   "codemirror_mode": {
    "name": "ipython",
    "version": 3
   },
   "file_extension": ".py",
   "mimetype": "text/x-python",
   "name": "python",
   "nbconvert_exporter": "python",
   "pygments_lexer": "ipython3",
   "version": "3.7.3"
  }
 },
 "nbformat": 4,
 "nbformat_minor": 2
}
