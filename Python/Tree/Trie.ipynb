{
 "cells": [
  {
   "cell_type": "code",
   "execution_count": 54,
   "metadata": {},
   "outputs": [],
   "source": [
    "class TrieNode:\n",
    "    \n",
    "    def __init__(self):\n",
    "        self.children = [None]*26\n",
    "        self.isEndOfWord = False"
   ]
  },
  {
   "cell_type": "code",
   "execution_count": 55,
   "metadata": {},
   "outputs": [],
   "source": [
    "class Trie: \n",
    "    def __init__(self): \n",
    "        self.root = self.getNode() \n",
    "        self.alphabet_size = 26\n",
    "  \n",
    "    def getNode(self): \n",
    "        return TrieNode() \n",
    "  \n",
    "    def charToIndex(self,ch): \n",
    "        return ord(ch)-ord('a') \n",
    "  \n",
    "    def insert(self,key): \n",
    "          \n",
    "        rootCr = self.root \n",
    "        length = len(key) \n",
    "        for level in range(length): \n",
    "            index = self.charToIndex(key[level]) \n",
    "  \n",
    "            if not rootCr.children[index]: \n",
    "                rootCr.children[index] = self.getNode() \n",
    "            rootCr = rootCr.children[index] \n",
    "  \n",
    "        rootCr.isEndOfWord = True\n",
    "  \n",
    "    def search(self, key): \n",
    "                  \n",
    "        rootCr = self.root \n",
    "        length = len(key) \n",
    "        for level in range(length): \n",
    "            index = self.charToIndex(key[level]) \n",
    "            if not rootCr.children[index]: \n",
    "                return False\n",
    "            rootCr = rootCr.children[index] \n",
    "        return rootCr != None and rootCr.isEndOfWord \n",
    "    \n",
    "    def isEmpty(self,root):\n",
    "        for i in range(self.alphabet_size):\n",
    "            if root.children[i] != None:\n",
    "                return False; \n",
    "        return True; \n",
    "    \n",
    "    def remove(self,root,key,depth = 0):\n",
    "        if root == None:\n",
    "            return None; \n",
    "\n",
    "        if depth == len(key):\n",
    "            if root.isEndOfWord:\n",
    "                root.isEndOfWord = False; \n",
    "\n",
    "            if self.isEmpty(root):\n",
    "                root = None\n",
    "            return root; \n",
    "\n",
    "        index = self.charToIndex(key[depth])\n",
    "\n",
    "        root.children[index] = self.remove(root.children[index], key, depth + 1); \n",
    "        if self.isEmpty(root) and root.isEndOfWord == False: \n",
    "            root = None; \n",
    "\n",
    "        return root; "
   ]
  },
  {
   "cell_type": "code",
   "execution_count": 56,
   "metadata": {},
   "outputs": [
    {
     "name": "stdout",
     "output_type": "stream",
     "text": [
      "the Present in trie\n",
      "these Present in trie\n",
      "their Present in trie\n",
      "thaw Not present in trie\n"
     ]
    }
   ],
   "source": [
    "keys = [\"the\",\"a\",\"there\",\"these\",\"anaswe\",\"any\", \n",
    "        \"by\",\"their\"] \n",
    "t = Trie() \n",
    "  \n",
    "for key in keys: \n",
    "     t.insert(key) \n",
    "  \n",
    "\n",
    "print(\"the\",output[t.search(\"the\")]) \n",
    "print(\"these\",output[t.search(\"these\")])\n",
    "print(\"their\",output[t.search(\"their\")])\n",
    "print(\"thaw\",output[t.search(\"thaw\")]) "
   ]
  },
  {
   "cell_type": "code",
   "execution_count": 57,
   "metadata": {},
   "outputs": [
    {
     "data": {
      "text/plain": [
       "<__main__.TrieNode at 0x108b425f8>"
      ]
     },
     "execution_count": 57,
     "metadata": {},
     "output_type": "execute_result"
    }
   ],
   "source": [
    "t.remove(t.root,\"these\")"
   ]
  },
  {
   "cell_type": "code",
   "execution_count": 58,
   "metadata": {},
   "outputs": [
    {
     "name": "stdout",
     "output_type": "stream",
     "text": [
      "these ---- Not present in trie\n"
     ]
    }
   ],
   "source": [
    "print(\"{} ---- {}\".format(\"these\",output[t.search(\"these\")])) "
   ]
  },
  {
   "cell_type": "code",
   "execution_count": null,
   "metadata": {},
   "outputs": [],
   "source": []
  },
  {
   "cell_type": "code",
   "execution_count": null,
   "metadata": {},
   "outputs": [],
   "source": []
  }
 ],
 "metadata": {
  "kernelspec": {
   "display_name": "Python 3",
   "language": "python",
   "name": "python3"
  },
  "language_info": {
   "codemirror_mode": {
    "name": "ipython",
    "version": 3
   },
   "file_extension": ".py",
   "mimetype": "text/x-python",
   "name": "python",
   "nbconvert_exporter": "python",
   "pygments_lexer": "ipython3",
   "version": "3.7.3"
  }
 },
 "nbformat": 4,
 "nbformat_minor": 2
}
